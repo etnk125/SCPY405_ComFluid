{
 "cells": [
  {
   "cell_type": "code",
   "execution_count": 1,
   "metadata": {},
   "outputs": [
    {
     "ename": "ModuleNotFoundError",
     "evalue": "No module named 'simulating_blobs_of_fluid'",
     "output_type": "error",
     "traceback": [
      "\u001b[1;31m---------------------------------------------------------------------------\u001b[0m",
      "\u001b[1;31mModuleNotFoundError\u001b[0m                       Traceback (most recent call last)",
      "\u001b[1;32m<ipython-input-1-83733e707a1b>\u001b[0m in \u001b[0;36m<module>\u001b[1;34m\u001b[0m\n\u001b[1;32m----> 1\u001b[1;33m \u001b[1;32mfrom\u001b[0m \u001b[0msimulating_blobs_of_fluid\u001b[0m\u001b[1;33m.\u001b[0m\u001b[0msimulation\u001b[0m \u001b[1;32mimport\u001b[0m \u001b[0mSimulation\u001b[0m\u001b[1;33m\u001b[0m\u001b[1;33m\u001b[0m\u001b[0m\n\u001b[0m\u001b[0;32m      2\u001b[0m \u001b[1;32mfrom\u001b[0m \u001b[0msimulating_blobs_of_fluid\u001b[0m\u001b[1;33m.\u001b[0m\u001b[0mfluid_renderer\u001b[0m \u001b[1;32mimport\u001b[0m \u001b[0mFluidRenderer\u001b[0m\u001b[1;33m\u001b[0m\u001b[1;33m\u001b[0m\u001b[0m\n\u001b[0;32m      3\u001b[0m \u001b[1;33m\u001b[0m\u001b[0m\n\u001b[0;32m      4\u001b[0m \u001b[1;32mimport\u001b[0m \u001b[0marcade\u001b[0m\u001b[1;33m\u001b[0m\u001b[1;33m\u001b[0m\u001b[0m\n\u001b[0;32m      5\u001b[0m \u001b[1;33m\u001b[0m\u001b[0m\n",
      "\u001b[1;31mModuleNotFoundError\u001b[0m: No module named 'simulating_blobs_of_fluid'"
     ]
    }
   ],
   "source": [
    "from simulating_blobs_of_fluid.simulation import Simulation\n",
    "from simulating_blobs_of_fluid.fluid_renderer import FluidRenderer\n",
    "\n",
    "import arcade\n",
    "\n",
    "\n",
    "def main():\n",
    "    simulation = Simulation(particle_count=50, dt=0.016, box_width=250)\n",
    "    FluidRenderer(simulation.box_width, 800, simulation)\n",
    "\n",
    "    arcade.run()\n",
    "\n",
    "\n",
    "if __name__ == \"__main__\":\n",
    "    main()"
   ]
  },
  {
   "cell_type": "code",
   "execution_count": null,
   "metadata": {},
   "outputs": [],
   "source": [
    "const state = {\n",
    "    x: new Float32Array(PARTICLE_COUNT), // x location\n",
    "    y: new Float32Array(PARTICLE_COUNT), // y location\n",
    "    oldX: new Float32Array(PARTICLE_COUNT), // previous x location\n",
    "    oldY: new Float32Array(PARTICLE_COUNT), // previous y location\n",
    "    vx: new Float32Array(PARTICLE_COUNT), // horizontal velocity\n",
    "    vy: new Float32Array(PARTICLE_COUNT), // vertical velocity\n",
    "    p: new Float32Array(PARTICLE_COUNT), // pressure\n",
    "    pNear: new Float32Array(PARTICLE_COUNT), // pressure near\n",
    "    g: new Float32Array(PARTICLE_COUNT), // 'nearness' to neighbour\n",
    "    mesh: [] // Three.js mesh for rendering\n",
    "}; "
   ]
  }
 ],
 "metadata": {
  "kernelspec": {
   "display_name": "Python 3",
   "language": "python",
   "name": "python3"
  },
  "language_info": {
   "codemirror_mode": {
    "name": "ipython",
    "version": 3
   },
   "file_extension": ".py",
   "mimetype": "text/x-python",
   "name": "python",
   "nbconvert_exporter": "python",
   "pygments_lexer": "ipython3",
   "version": "3.8.5 (tags/v3.8.5:580fbb0, Jul 20 2020, 15:57:54) [MSC v.1924 64 bit (AMD64)]"
  },
  "orig_nbformat": 4,
  "vscode": {
   "interpreter": {
    "hash": "626427279aa2454b6be04cdb3a226e87a519a5817b1366377d3d6a340696fdd3"
   }
  }
 },
 "nbformat": 4,
 "nbformat_minor": 2
}
